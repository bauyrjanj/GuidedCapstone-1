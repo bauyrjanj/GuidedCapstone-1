{
 "cells": [
  {
   "cell_type": "markdown",
   "metadata": {
    "colab_type": "text",
    "id": "cf5CmXQCZyF1"
   },
   "source": [
    "# Guided Capstone Step 6. Documentation"
   ]
  },
  {
   "cell_type": "markdown",
   "metadata": {
    "colab_type": "text",
    "id": "JbZXsVevfr9M"
   },
   "source": [
    "**The Data Science Method**  \n",
    "\n",
    "\n",
    "1.   Problem Identification \n",
    "\n",
    "2.   Data Wrangling \n",
    "  \n",
    "3.   Exploratory Data Analysis \n",
    " \n",
    "4.   Pre-processing and Training Data Development\n",
    "\n",
    "5.  Modeling\n",
    "\n",
    "6.   **Documentation**\n",
    "  * Review the Results\n",
    "  * Finalize Code \n",
    "  * Finalize Documentation\n",
    "  * Create a Project Report \n",
    "  * Create a Slide Deck for the Executive Audience"
   ]
  },
  {
   "cell_type": "markdown",
   "metadata": {
    "colab_type": "text",
    "id": "D-oGciwnGUYk"
   },
   "source": [
    "In this guided capstone we are going to revisit many of the actions we took in the previous guided capstone steps. This gives you the opportunity to practice the code you wrote to solve the questions in step 4 and 5. "
   ]
  },
  {
   "cell_type": "markdown",
   "metadata": {
    "colab_type": "text",
    "id": "K8xfkAqqZyF2"
   },
   "source": [
    "**<font color='teal'> Start by loading the necessary packages and printing out our current working directory just to confirm we are in the correct project directory. </font>**"
   ]
  },
  {
   "cell_type": "code",
   "execution_count": 1,
   "metadata": {
    "colab": {},
    "colab_type": "code",
    "id": "ry6WPL5eZyF3"
   },
   "outputs": [
    {
     "data": {
      "text/plain": [
       "'C:\\\\Users\\\\meagv\\\\Google Drive\\\\Springboard Data Science\\\\Guided Capstone'"
      ]
     },
     "execution_count": 1,
     "metadata": {},
     "output_type": "execute_result"
    }
   ],
   "source": [
    "import os\n",
    "import pandas as pd\n",
    "import datetime\n",
    "import seaborn as sns\n",
    "import matplotlib.pyplot as plt\n",
    "import numpy as np\n",
    "%matplotlib inline\n",
    "\n",
    "os.getcwd()"
   ]
  },
  {
   "cell_type": "markdown",
   "metadata": {
    "colab_type": "text",
    "id": "0HTP9cF2GUYs"
   },
   "source": [
    "## Fit Models with Training Dataset"
   ]
  },
  {
   "cell_type": "markdown",
   "metadata": {
    "colab_type": "text",
    "id": "A2FmSbtCGUYt"
   },
   "source": [
    "**<font color='teal'> Using sklearn fit the model you chose in Guided Capstone 5 on your training dataset. This includes: creating dummy features for states if you need them, scaling the data,and creating train and test splits before fitting the chosen model.Also, remember to generate a model performance score(MAE, or explained variance) based on the testing hold-out data set.</font>**"
   ]
  },
  {
   "cell_type": "markdown",
   "metadata": {
    "colab_type": "text",
    "id": "ReRSy1yFGUYu"
   },
   "source": [
    "#### Best Model "
   ]
  },
  {
   "cell_type": "code",
   "execution_count": 2,
   "metadata": {
    "colab": {},
    "colab_type": "code",
    "id": "YRhPGbqPGUYv"
   },
   "outputs": [
    {
     "name": "stdout",
     "output_type": "stream",
     "text": [
      "                   Coefficient\n",
      "AdultWeekday         20.077469\n",
      "clusters              2.638486\n",
      "vertical_drop         2.032411\n",
      "Runs                  1.398631\n",
      "triple                1.387036\n",
      "surface               1.249047\n",
      "quad                  1.183929\n",
      "daysOpenLastYear      1.156668\n",
      "averageSnowfall       0.899505\n",
      "fastQuads             0.705187\n",
      "projectedDaysOpen     0.585124\n",
      "Snow Making_ac        0.584563\n",
      "total_chairs          0.571702\n",
      "LongestRun_mi         0.403842\n",
      "fastSixes             0.383018\n",
      "NightSkiing_ac        0.381768\n",
      "trams                 0.290860\n",
      "double                0.246858\n",
      "yearsOpen             0.242682\n",
      "SkiableTerrain_ac     0.141560\n",
      "TerrainParks          0.092517\n",
      "fastEight             0.060005\n",
      "0.9354012974977128\n",
      "5.1303455279734145\n",
      "(83, 22)\n",
      "LinearRegression(copy_X=True, fit_intercept=True, n_jobs=None, normalize=False)\n"
     ]
    },
    {
     "data": {
      "text/html": [
       "<table class=\"simpletable\">\n",
       "<caption>OLS Regression Results</caption>\n",
       "<tr>\n",
       "  <th>Dep. Variable:</th>            <td>y</td>        <th>  R-squared:         </th> <td>   0.955</td>\n",
       "</tr>\n",
       "<tr>\n",
       "  <th>Model:</th>                   <td>OLS</td>       <th>  Adj. R-squared:    </th> <td>   0.941</td>\n",
       "</tr>\n",
       "<tr>\n",
       "  <th>Method:</th>             <td>Least Squares</td>  <th>  F-statistic:       </th> <td>   66.10</td>\n",
       "</tr>\n",
       "<tr>\n",
       "  <th>Date:</th>             <td>Tue, 02 Jun 2020</td> <th>  Prob (F-statistic):</th> <td>2.83e-34</td>\n",
       "</tr>\n",
       "<tr>\n",
       "  <th>Time:</th>                 <td>13:34:26</td>     <th>  Log-Likelihood:    </th> <td> -259.71</td>\n",
       "</tr>\n",
       "<tr>\n",
       "  <th>No. Observations:</th>      <td>    83</td>      <th>  AIC:               </th> <td>   561.4</td>\n",
       "</tr>\n",
       "<tr>\n",
       "  <th>Df Residuals:</th>          <td>    62</td>      <th>  BIC:               </th> <td>   612.2</td>\n",
       "</tr>\n",
       "<tr>\n",
       "  <th>Df Model:</th>              <td>    20</td>      <th>                     </th>     <td> </td>   \n",
       "</tr>\n",
       "<tr>\n",
       "  <th>Covariance Type:</th>      <td>nonrobust</td>    <th>                     </th>     <td> </td>   \n",
       "</tr>\n",
       "</table>\n",
       "<table class=\"simpletable\">\n",
       "<tr>\n",
       "   <td></td>      <th>coef</th>     <th>std err</th>      <th>t</th>      <th>P>|t|</th>  <th>[0.025</th>    <th>0.975]</th>  \n",
       "</tr>\n",
       "<tr>\n",
       "  <th>x1</th>  <td>    1.9215</td> <td>    1.938</td> <td>    0.992</td> <td> 0.325</td> <td>   -1.952</td> <td>    5.795</td>\n",
       "</tr>\n",
       "<tr>\n",
       "  <th>x2</th>  <td>   -2.2286</td> <td>    1.252</td> <td>   -1.780</td> <td> 0.080</td> <td>   -4.732</td> <td>    0.275</td>\n",
       "</tr>\n",
       "<tr>\n",
       "  <th>x3</th>  <td>-1179.0552</td> <td>   14.693</td> <td>  -80.248</td> <td> 0.000</td> <td>-1208.425</td> <td>-1149.685</td>\n",
       "</tr>\n",
       "<tr>\n",
       "  <th>x4</th>  <td>    0.9162</td> <td>    0.824</td> <td>    1.112</td> <td> 0.270</td> <td>   -0.731</td> <td>    2.563</td>\n",
       "</tr>\n",
       "<tr>\n",
       "  <th>x5</th>  <td>    7.1557</td> <td>    1.850</td> <td>    3.867</td> <td> 0.000</td> <td>    3.457</td> <td>   10.855</td>\n",
       "</tr>\n",
       "<tr>\n",
       "  <th>x6</th>  <td>    1.9030</td> <td>    0.867</td> <td>    2.196</td> <td> 0.032</td> <td>    0.170</td> <td>    3.635</td>\n",
       "</tr>\n",
       "<tr>\n",
       "  <th>x7</th>  <td>    3.6336</td> <td>    0.840</td> <td>    4.323</td> <td> 0.000</td> <td>    1.954</td> <td>    5.314</td>\n",
       "</tr>\n",
       "<tr>\n",
       "  <th>x8</th>  <td>    3.1168</td> <td>    0.950</td> <td>    3.280</td> <td> 0.002</td> <td>    1.217</td> <td>    5.016</td>\n",
       "</tr>\n",
       "<tr>\n",
       "  <th>x9</th>  <td>    0.6239</td> <td>    0.965</td> <td>    0.647</td> <td> 0.520</td> <td>   -1.304</td> <td>    2.552</td>\n",
       "</tr>\n",
       "<tr>\n",
       "  <th>x10</th> <td>   -5.9501</td> <td>    0.655</td> <td>   -9.085</td> <td> 0.000</td> <td>   -7.259</td> <td>   -4.641</td>\n",
       "</tr>\n",
       "<tr>\n",
       "  <th>x11</th> <td>   -0.0003</td> <td>    2.349</td> <td>   -0.000</td> <td> 1.000</td> <td>   -4.696</td> <td>    4.695</td>\n",
       "</tr>\n",
       "<tr>\n",
       "  <th>x12</th> <td>    1.2058</td> <td>    0.877</td> <td>    1.375</td> <td> 0.174</td> <td>   -0.547</td> <td>    2.959</td>\n",
       "</tr>\n",
       "<tr>\n",
       "  <th>x13</th> <td>    1.1283</td> <td>    1.447</td> <td>    0.780</td> <td> 0.438</td> <td>   -1.764</td> <td>    4.020</td>\n",
       "</tr>\n",
       "<tr>\n",
       "  <th>x14</th> <td>   -0.2134</td> <td>    1.961</td> <td>   -0.109</td> <td> 0.914</td> <td>   -4.133</td> <td>    3.706</td>\n",
       "</tr>\n",
       "<tr>\n",
       "  <th>x15</th> <td>   -0.6709</td> <td>    0.834</td> <td>   -0.805</td> <td> 0.424</td> <td>   -2.337</td> <td>    0.995</td>\n",
       "</tr>\n",
       "<tr>\n",
       "  <th>x16</th> <td>    1.7036</td> <td>    1.281</td> <td>    1.329</td> <td> 0.189</td> <td>   -0.858</td> <td>    4.265</td>\n",
       "</tr>\n",
       "<tr>\n",
       "  <th>x17</th> <td>    3.1646</td> <td>    5.374</td> <td>    0.589</td> <td> 0.558</td> <td>   -7.578</td> <td>   13.907</td>\n",
       "</tr>\n",
       "<tr>\n",
       "  <th>x18</th> <td>    1.4468</td> <td>    1.318</td> <td>    1.098</td> <td> 0.276</td> <td>   -1.187</td> <td>    4.081</td>\n",
       "</tr>\n",
       "<tr>\n",
       "  <th>x19</th> <td>   17.6057</td> <td>    1.338</td> <td>   13.162</td> <td> 0.000</td> <td>   14.932</td> <td>   20.280</td>\n",
       "</tr>\n",
       "<tr>\n",
       "  <th>x20</th> <td>   -1.3230</td> <td>    1.436</td> <td>   -0.921</td> <td> 0.360</td> <td>   -4.194</td> <td>    1.548</td>\n",
       "</tr>\n",
       "<tr>\n",
       "  <th>x21</th> <td>    1.3827</td> <td>    0.908</td> <td>    1.522</td> <td> 0.133</td> <td>   -0.433</td> <td>    3.198</td>\n",
       "</tr>\n",
       "<tr>\n",
       "  <th>x22</th> <td>   -4.9559</td> <td>    1.257</td> <td>   -3.942</td> <td> 0.000</td> <td>   -7.469</td> <td>   -2.443</td>\n",
       "</tr>\n",
       "</table>\n",
       "<table class=\"simpletable\">\n",
       "<tr>\n",
       "  <th>Omnibus:</th>       <td>15.027</td> <th>  Durbin-Watson:     </th> <td>   1.660</td>\n",
       "</tr>\n",
       "<tr>\n",
       "  <th>Prob(Omnibus):</th> <td> 0.001</td> <th>  Jarque-Bera (JB):  </th> <td>  25.098</td>\n",
       "</tr>\n",
       "<tr>\n",
       "  <th>Skew:</th>          <td> 0.694</td> <th>  Prob(JB):          </th> <td>3.55e-06</td>\n",
       "</tr>\n",
       "<tr>\n",
       "  <th>Kurtosis:</th>      <td> 5.309</td> <th>  Cond. No.          </th> <td>1.80e+16</td>\n",
       "</tr>\n",
       "</table><br/><br/>Warnings:<br/>[1] Standard Errors assume that the covariance matrix of the errors is correctly specified.<br/>[2] The smallest eigenvalue is 2.72e-30. This might indicate that there are<br/>strong multicollinearity problems or that the design matrix is singular."
      ],
      "text/plain": [
       "<class 'statsmodels.iolib.summary.Summary'>\n",
       "\"\"\"\n",
       "                            OLS Regression Results                            \n",
       "==============================================================================\n",
       "Dep. Variable:                      y   R-squared:                       0.955\n",
       "Model:                            OLS   Adj. R-squared:                  0.941\n",
       "Method:                 Least Squares   F-statistic:                     66.10\n",
       "Date:                Tue, 02 Jun 2020   Prob (F-statistic):           2.83e-34\n",
       "Time:                        13:34:26   Log-Likelihood:                -259.71\n",
       "No. Observations:                  83   AIC:                             561.4\n",
       "Df Residuals:                      62   BIC:                             612.2\n",
       "Df Model:                          20                                         \n",
       "Covariance Type:            nonrobust                                         \n",
       "==============================================================================\n",
       "                 coef    std err          t      P>|t|      [0.025      0.975]\n",
       "------------------------------------------------------------------------------\n",
       "x1             1.9215      1.938      0.992      0.325      -1.952       5.795\n",
       "x2            -2.2286      1.252     -1.780      0.080      -4.732       0.275\n",
       "x3         -1179.0552     14.693    -80.248      0.000   -1208.425   -1149.685\n",
       "x4             0.9162      0.824      1.112      0.270      -0.731       2.563\n",
       "x5             7.1557      1.850      3.867      0.000       3.457      10.855\n",
       "x6             1.9030      0.867      2.196      0.032       0.170       3.635\n",
       "x7             3.6336      0.840      4.323      0.000       1.954       5.314\n",
       "x8             3.1168      0.950      3.280      0.002       1.217       5.016\n",
       "x9             0.6239      0.965      0.647      0.520      -1.304       2.552\n",
       "x10           -5.9501      0.655     -9.085      0.000      -7.259      -4.641\n",
       "x11           -0.0003      2.349     -0.000      1.000      -4.696       4.695\n",
       "x12            1.2058      0.877      1.375      0.174      -0.547       2.959\n",
       "x13            1.1283      1.447      0.780      0.438      -1.764       4.020\n",
       "x14           -0.2134      1.961     -0.109      0.914      -4.133       3.706\n",
       "x15           -0.6709      0.834     -0.805      0.424      -2.337       0.995\n",
       "x16            1.7036      1.281      1.329      0.189      -0.858       4.265\n",
       "x17            3.1646      5.374      0.589      0.558      -7.578      13.907\n",
       "x18            1.4468      1.318      1.098      0.276      -1.187       4.081\n",
       "x19           17.6057      1.338     13.162      0.000      14.932      20.280\n",
       "x20           -1.3230      1.436     -0.921      0.360      -4.194       1.548\n",
       "x21            1.3827      0.908      1.522      0.133      -0.433       3.198\n",
       "x22           -4.9559      1.257     -3.942      0.000      -7.469      -2.443\n",
       "==============================================================================\n",
       "Omnibus:                       15.027   Durbin-Watson:                   1.660\n",
       "Prob(Omnibus):                  0.001   Jarque-Bera (JB):               25.098\n",
       "Skew:                           0.694   Prob(JB):                     3.55e-06\n",
       "Kurtosis:                       5.309   Cond. No.                     1.80e+16\n",
       "==============================================================================\n",
       "\n",
       "Warnings:\n",
       "[1] Standard Errors assume that the covariance matrix of the errors is correctly specified.\n",
       "[2] The smallest eigenvalue is 2.72e-30. This might indicate that there are\n",
       "strong multicollinearity problems or that the design matrix is singular.\n",
       "\"\"\""
      ]
     },
     "execution_count": 2,
     "metadata": {},
     "output_type": "execute_result"
    }
   ],
   "source": [
    "from sklearn import linear_model\n",
    "from sklearn.model_selection import train_test_split\n",
    "from sklearn.metrics import explained_variance_score,mean_absolute_error\n",
    "from sklearn import preprocessing\n",
    "from sklearn.preprocessing import StandardScaler\n",
    "df=pd.read_csv('step3_output.csv')\n",
    "X=df.drop(['Name','AdultWeekend','state','summit_elev', 'Unnamed: 0'], axis=1)\n",
    "y=df.AdultWeekend\n",
    "scaler = preprocessing.StandardScaler().fit(X)\n",
    "X_scaled=scaler.transform(X) \n",
    "y=y.ravel()\n",
    "X_train, X_test, y_train, y_test = train_test_split(X_scaled, y, test_size=0.25, random_state=1)\n",
    "lm = linear_model.LinearRegression()\n",
    "model = lm.fit(X_train,y_train)\n",
    "y_pred = model.predict(X_test)\n",
    "coeff=(pd.DataFrame(abs(lm.coef_), X.columns, columns=['Coefficient']).sort_values(by='Coefficient', ascending=False))\n",
    "print(coeff)\n",
    "coeff.to_csv('finalcoefficients.csv')\n",
    "print(explained_variance_score(y_test, y_pred))\n",
    "print(mean_absolute_error(y_test, y_pred))\n",
    "\n",
    "print(X_test.shape)\n",
    "print(model)\n",
    "\n",
    "import statsmodels.api as sm\n",
    "results = sm.OLS(y_test,X_test).fit()\n",
    "results.summary() "
   ]
  },
  {
   "cell_type": "markdown",
   "metadata": {
    "colab_type": "text",
    "id": "GGizyeLZGUYz"
   },
   "source": [
    "## Review the results "
   ]
  },
  {
   "cell_type": "markdown",
   "metadata": {
    "colab_type": "text",
    "id": "4Lhu-qisGUY0"
   },
   "source": [
    "**<font color='teal'> Now, let's predict the Big Mountain Weekend price with our model in order to provide a recommendation to our managers on how to price the `AdultWeekend` lift ticket. First we need to find the row for Big Mountain resort in our data using string contains or string matching.</font>**"
   ]
  },
  {
   "cell_type": "code",
   "execution_count": 3,
   "metadata": {
    "colab": {},
    "colab_type": "code",
    "id": "YXnx_IuEGUY1"
   },
   "outputs": [],
   "source": [
    "big=df[df['Name'].str.contains('Big Mountain')]"
   ]
  },
  {
   "cell_type": "code",
   "execution_count": 4,
   "metadata": {},
   "outputs": [],
   "source": [
    "X=big.drop(['Name','AdultWeekend','clusters','state','summit_elev'], axis=1)\n"
   ]
  },
  {
   "cell_type": "markdown",
   "metadata": {
    "colab_type": "text",
    "id": "83-jO9hPGUY4"
   },
   "source": [
    "**<font color='teal'> Prepare the Big Mountain resort data row as you did in the model fitting stage.</font>**"
   ]
  },
  {
   "cell_type": "code",
   "execution_count": 5,
   "metadata": {
    "colab": {},
    "colab_type": "code",
    "id": "oWH_q9YOGUY5"
   },
   "outputs": [
    {
     "name": "stdout",
     "output_type": "stream",
     "text": [
      "     vertical_drop  trams  fastEight  fastSixes  fastQuads  quad  triple  \\\n",
      "151           2353      0        0.0          0          3     2       6   \n",
      "\n",
      "     double  surface  total_chairs  ...  TerrainParks  LongestRun_mi  \\\n",
      "151       0        3            14  ...           4.0            3.3   \n",
      "\n",
      "     SkiableTerrain_ac  Snow Making_ac  daysOpenLastYear  yearsOpen  \\\n",
      "151             3000.0           600.0             123.0       72.0   \n",
      "\n",
      "     averageSnowfall  AdultWeekday  projectedDaysOpen  NightSkiing_ac  \n",
      "151            333.0          81.0              123.0           600.0  \n",
      "\n",
      "[1 rows x 21 columns]\n",
      "     vertical_drop  trams  fastEight  fastSixes  fastQuads  quad  triple  \\\n",
      "151           2353      0        0.0          0          3     2       6   \n",
      "\n",
      "     double  surface  total_chairs  ...  TerrainParks  LongestRun_mi  \\\n",
      "151       0        3            14  ...           4.0            3.3   \n",
      "\n",
      "     SkiableTerrain_ac  Snow Making_ac  daysOpenLastYear  yearsOpen  \\\n",
      "151             3000.0           600.0             123.0       72.0   \n",
      "\n",
      "     averageSnowfall  AdultWeekday  projectedDaysOpen  NightSkiing_ac  \n",
      "151            333.0          81.0              123.0           600.0  \n",
      "\n",
      "[1 rows x 21 columns]\n"
     ]
    }
   ],
   "source": [
    "X=big.drop(['Name','AdultWeekend','clusters','state','summit_elev', 'Unnamed: 0'], axis=1)\n",
    "\n",
    "print(X)\n",
    "X=pd.DataFrame(X)\n",
    "print(X)"
   ]
  },
  {
   "cell_type": "markdown",
   "metadata": {
    "colab_type": "text",
    "id": "2BCFqZYBGUY9"
   },
   "source": [
    "**<font color='teal'> Predict the Big Mountain resort `Adult Weekend` price and print it out.</font>** This is our expected price to present to management. Based on our model given the characteristics of the resort in comparison to other ski resorts and their unique characteristics."
   ]
  },
  {
   "cell_type": "code",
   "execution_count": 6,
   "metadata": {
    "colab": {},
    "colab_type": "code",
    "id": "XebWxxTMGUY-"
   },
   "outputs": [],
   "source": [
    "from sklearn.datasets import make_regression\n",
    "scaler = preprocessing.StandardScaler().fit(X)\n",
    "X_scaled=scaler.transform(X) \n",
    "X_scaled.shape\n",
    "Xnew, _ = make_regression(n_samples=1, n_features=22, noise=0.1, random_state=1)"
   ]
  },
  {
   "cell_type": "markdown",
   "metadata": {
    "colab_type": "text",
    "id": "_5BvguMLGUZB"
   },
   "source": [
    "**<font color='teal'> Print the Big Mountain resort actual `Adult Weekend` price.</font>**"
   ]
  },
  {
   "cell_type": "code",
   "execution_count": 7,
   "metadata": {
    "colab": {},
    "colab_type": "code",
    "id": "WyxTHtL2GUZC"
   },
   "outputs": [
    {
     "name": "stdout",
     "output_type": "stream",
     "text": [
      "[92.19979559]\n"
     ]
    }
   ],
   "source": [
    "ynew = model.predict(Xnew)\n",
    "print(ynew)\n"
   ]
  },
  {
   "cell_type": "code",
   "execution_count": 8,
   "metadata": {},
   "outputs": [
    {
     "name": "stdout",
     "output_type": "stream",
     "text": [
      "X=[-1.09989127 -1.10061918  1.14472371  1.13376944 -2.06014071  0.04221375\n",
      " -0.61175641 -0.87785842 -0.17242821 -1.07296862 -0.3224172  -0.24937038\n",
      " -0.38405435 -0.7612069   1.46210794 -0.52817175  1.62434536  0.3190391\n",
      "  1.74481176  0.58281521 -2.3015387   0.86540763], Predicted=92.19979559085834\n"
     ]
    }
   ],
   "source": [
    "for i in range(len(Xnew)):\n",
    "    print(\"X=%s, Predicted=%s\" % (Xnew[i], ynew[i]))\n",
    "    \n",
    "    "
   ]
  },
  {
   "cell_type": "code",
   "execution_count": 9,
   "metadata": {},
   "outputs": [
    {
     "data": {
      "text/plain": [
       "151    81.0\n",
       "Name: AdultWeekend, dtype: float64"
      ]
     },
     "execution_count": 9,
     "metadata": {},
     "output_type": "execute_result"
    }
   ],
   "source": [
    "big=df[df['Name'].str.contains('Big Mountain')]\n",
    "big['AdultWeekend']"
   ]
  },
  {
   "cell_type": "markdown",
   "metadata": {
    "colab_type": "text",
    "id": "O0Yli8MXGUZH"
   },
   "source": [
    "**<font color='teal'> As part of reviewing the results it is an important step to generate figures to visualize the data story. We can use the clusters we added to our data frame to create scatter plots for visualizing the Adult Weekend values compared to other characteristics. Run the example below to get you started and build two or three more figures to include in your data story telling.</font>**"
   ]
  },
  {
   "cell_type": "code",
   "execution_count": 10,
   "metadata": {
    "colab": {},
    "colab_type": "code",
    "id": "xWtr873fGUZI"
   },
   "outputs": [
    {
     "data": {
      "image/png": "[encoded data removed]",
      "text/plain": [
       "<Figure size 432x288 with 1 Axes>"
      ]
     },
     "metadata": {
      "needs_background": "light"
     },
     "output_type": "display_data"
    }
   ],
   "source": [
    "plt.scatter(df['summit_elev'], df['vertical_drop'], c=df['clusters'], s=50, cmap='viridis', label ='clusters')\n",
    "\n",
    "plt.xlabel('summit_elev')\n",
    "plt.ylabel('vertical_drop')\n",
    "plt.title('summit_elev by vertical_drop by cluster')\n",
    "plt.savefig('figures/fig1.png',bbox_inches='tight')"
   ]
  },
  {
   "cell_type": "code",
   "execution_count": 11,
   "metadata": {
    "colab": {},
    "colab_type": "code",
    "id": "530JtuJxGUZL"
   },
   "outputs": [
    {
     "data": {
      "image/png": "[encoded data removed]",
      "text/plain": [
       "<Figure size 432x288 with 1 Axes>"
      ]
     },
     "metadata": {
      "needs_background": "light"
     },
     "output_type": "display_data"
    }
   ],
   "source": [
    "plt.scatter(df['vertical_drop'], df['AdultWeekend'], c=df['clusters'], s=50, cmap='viridis', label ='clusters')\n",
    "\n",
    "plt.xlabel('Vertical Drop')\n",
    "plt.ylabel('Adult Weekend Ticket Price')\n",
    "plt.title('Vertical Drop by Weekend Price by cluster')\n",
    "plt.savefig('figures/fig2.png',bbox_inches='tight')"
   ]
  },
  {
   "cell_type": "code",
   "execution_count": 18,
   "metadata": {
    "colab": {},
    "colab_type": "code",
    "id": "kGvf4kTwGUZR"
   },
   "outputs": [
    {
     "data": {
      "image/png": "[encoded data removed]",
      "text/plain": [
       "<Figure size 432x288 with 1 Axes>"
      ]
     },
     "metadata": {
      "needs_background": "light"
     },
     "output_type": "display_data"
    }
   ],
   "source": [
    "plt.scatter(df['AdultWeekday'], df['AdultWeekend'], c=df['clusters'], s=50, cmap='viridis', label ='clusters')\n",
    "\n",
    "plt.xlabel('Adult Weekday Price')\n",
    "plt.ylabel('Adult Weekend Ticket Price')\n",
    "plt.title('Adult Weekday Price by Weekend Price by cluster')\n",
    "plt.savefig('figures/fig3.png',bbox_inches='tight')"
   ]
  },
  {
   "cell_type": "code",
   "execution_count": 19,
   "metadata": {
    "colab": {},
    "colab_type": "code",
    "id": "OYZB84hYGUZU"
   },
   "outputs": [
    {
     "data": {
      "image/png": "[encoded data removed]",
      "text/plain": [
       "<Figure size 432x288 with 1 Axes>"
      ]
     },
     "metadata": {
      "needs_background": "light"
     },
     "output_type": "display_data"
    }
   ],
   "source": [
    "plt.scatter(df['Runs'], df['AdultWeekend'], c=df['clusters'], s=50, cmap='viridis', label ='clusters')\n",
    "\n",
    "plt.xlabel('Runs')\n",
    "plt.ylabel('Adult Weekend Ticket Price')\n",
    "plt.title('Runs by Weekend Price by cluster')\n",
    "plt.savefig('figures/fig4.png',bbox_inches='tight')"
   ]
  },
  {
   "cell_type": "markdown",
   "metadata": {
    "colab_type": "text",
    "id": "giLKE2WMGUZh"
   },
   "source": [
    "## Finalize Code"
   ]
  },
  {
   "cell_type": "markdown",
   "metadata": {
    "colab_type": "text",
    "id": "pps_ASHoGUZi"
   },
   "source": [
    " Making sure our code is well organized and easy to follow is an important step. This is the time where you need to review the notebooks and Python scripts you've created and clean them up so they are easy to follow and succinct in nature. Addtionally, we will also save our final model as a callable object using Pickle for future use in a data pipeline. Pickle is a module that serializes (and de-serializes) Python objects so that they can become executable objects like functions. It's used extensively in production environments where machine learning models are deployed on an industrial scale!**<font color='teal'> Run the example code below to save out your callable model. Notice that we save it in the models folder we created in our previous guided capstone step.</font>** "
   ]
  },
  {
   "cell_type": "code",
   "execution_count": 14,
   "metadata": {
    "colab": {},
    "colab_type": "code",
    "id": "X_h0tkt_GUZj"
   },
   "outputs": [
    {
     "data": {
      "text/plain": [
       "['models/regression_model_adultweekend.joblib']"
      ]
     },
     "execution_count": 14,
     "metadata": {},
     "output_type": "execute_result"
    }
   ],
   "source": [
    "import pickle\n",
    "s = pickle.dumps(model)\n",
    "from joblib import dump, load\n",
    "dump(model, 'models/regression_model_adultweekend.joblib') "
   ]
  },
  {
   "cell_type": "markdown",
   "metadata": {
    "colab_type": "text",
    "id": "MTVrVlerGUZn"
   },
   "source": [
    "## Finalize Documentation"
   ]
  },
  {
   "cell_type": "markdown",
   "metadata": {
    "colab_type": "text",
    "id": "thEMyu-DGUZo"
   },
   "source": [
    "For model documentation, we want to save the model performance metrics as well as the features included in the final model. You could also save the model perfomance metrics and coefficients fo the other models you tried in case you want to refer to them later. **<font color='teal'> Create a dataframe containing the coefficients and the model performance metrics and save it out as a csv file, then upload it to your github repository.</font>** "
   ]
  },
  {
   "cell_type": "code",
   "execution_count": 15,
   "metadata": {
    "colab": {},
    "colab_type": "code",
    "id": "278tnHLlGUZp"
   },
   "outputs": [],
   "source": [
    "co=pd.read_csv('finalcoefficients.csv')"
   ]
  },
  {
   "cell_type": "code",
   "execution_count": 16,
   "metadata": {
    "colab": {},
    "colab_type": "code",
    "id": "4CEOoBLFGUZr"
   },
   "outputs": [
    {
     "name": "stdout",
     "output_type": "stream",
     "text": [
      "           Unnamed: 0  Coefficient\n",
      "0        AdultWeekday    20.077469\n",
      "1            clusters     2.638486\n",
      "2       vertical_drop     2.032411\n",
      "3                Runs     1.398631\n",
      "4              triple     1.387036\n",
      "5             surface     1.249047\n",
      "6                quad     1.183929\n",
      "7    daysOpenLastYear     1.156668\n",
      "8     averageSnowfall     0.899505\n",
      "9           fastQuads     0.705187\n",
      "10  projectedDaysOpen     0.585124\n",
      "11     Snow Making_ac     0.584563\n",
      "12       total_chairs     0.571702\n",
      "13      LongestRun_mi     0.403842\n",
      "14          fastSixes     0.383018\n",
      "15     NightSkiing_ac     0.381768\n",
      "16              trams     0.290860\n",
      "17             double     0.246858\n",
      "18          yearsOpen     0.242682\n",
      "19  SkiableTerrain_ac     0.141560\n",
      "20       TerrainParks     0.092517\n",
      "21          fastEight     0.060005\n"
     ]
    },
    {
     "data": {
      "text/html": [
       "<div>\n",
       "<style scoped>\n",
       "    .dataframe tbody tr th:only-of-type {\n",
       "        vertical-align: middle;\n",
       "    }\n",
       "\n",
       "    .dataframe tbody tr th {\n",
       "        vertical-align: top;\n",
       "    }\n",
       "\n",
       "    .dataframe thead th {\n",
       "        text-align: right;\n",
       "    }\n",
       "</style>\n",
       "<table border=\"1\" class=\"dataframe\">\n",
       "  <thead>\n",
       "    <tr style=\"text-align: right;\">\n",
       "      <th></th>\n",
       "      <th>Feature</th>\n",
       "      <th>Coefficient</th>\n",
       "      <th>Explained Variance</th>\n",
       "      <th>Mean Absolute Error</th>\n",
       "    </tr>\n",
       "  </thead>\n",
       "  <tbody>\n",
       "    <tr>\n",
       "      <th>0</th>\n",
       "      <td>AdultWeekday</td>\n",
       "      <td>20.0775</td>\n",
       "      <td></td>\n",
       "      <td></td>\n",
       "    </tr>\n",
       "    <tr>\n",
       "      <th>1</th>\n",
       "      <td>clusters</td>\n",
       "      <td>2.63849</td>\n",
       "      <td></td>\n",
       "      <td></td>\n",
       "    </tr>\n",
       "    <tr>\n",
       "      <th>2</th>\n",
       "      <td>vertical_drop</td>\n",
       "      <td>2.03241</td>\n",
       "      <td></td>\n",
       "      <td></td>\n",
       "    </tr>\n",
       "    <tr>\n",
       "      <th>3</th>\n",
       "      <td>Runs</td>\n",
       "      <td>1.39863</td>\n",
       "      <td></td>\n",
       "      <td></td>\n",
       "    </tr>\n",
       "    <tr>\n",
       "      <th>4</th>\n",
       "      <td>triple</td>\n",
       "      <td>1.38704</td>\n",
       "      <td></td>\n",
       "      <td></td>\n",
       "    </tr>\n",
       "    <tr>\n",
       "      <th>5</th>\n",
       "      <td>surface</td>\n",
       "      <td>1.24905</td>\n",
       "      <td></td>\n",
       "      <td></td>\n",
       "    </tr>\n",
       "    <tr>\n",
       "      <th>6</th>\n",
       "      <td>quad</td>\n",
       "      <td>1.18393</td>\n",
       "      <td></td>\n",
       "      <td></td>\n",
       "    </tr>\n",
       "    <tr>\n",
       "      <th>7</th>\n",
       "      <td>daysOpenLastYear</td>\n",
       "      <td>1.15667</td>\n",
       "      <td></td>\n",
       "      <td></td>\n",
       "    </tr>\n",
       "    <tr>\n",
       "      <th>8</th>\n",
       "      <td>averageSnowfall</td>\n",
       "      <td>0.899505</td>\n",
       "      <td></td>\n",
       "      <td></td>\n",
       "    </tr>\n",
       "    <tr>\n",
       "      <th>9</th>\n",
       "      <td>fastQuads</td>\n",
       "      <td>0.705187</td>\n",
       "      <td></td>\n",
       "      <td></td>\n",
       "    </tr>\n",
       "    <tr>\n",
       "      <th>10</th>\n",
       "      <td>projectedDaysOpen</td>\n",
       "      <td>0.585124</td>\n",
       "      <td></td>\n",
       "      <td></td>\n",
       "    </tr>\n",
       "    <tr>\n",
       "      <th>11</th>\n",
       "      <td>Snow Making_ac</td>\n",
       "      <td>0.584563</td>\n",
       "      <td></td>\n",
       "      <td></td>\n",
       "    </tr>\n",
       "    <tr>\n",
       "      <th>12</th>\n",
       "      <td>total_chairs</td>\n",
       "      <td>0.571702</td>\n",
       "      <td></td>\n",
       "      <td></td>\n",
       "    </tr>\n",
       "    <tr>\n",
       "      <th>13</th>\n",
       "      <td>LongestRun_mi</td>\n",
       "      <td>0.403842</td>\n",
       "      <td></td>\n",
       "      <td></td>\n",
       "    </tr>\n",
       "    <tr>\n",
       "      <th>14</th>\n",
       "      <td>fastSixes</td>\n",
       "      <td>0.383018</td>\n",
       "      <td></td>\n",
       "      <td></td>\n",
       "    </tr>\n",
       "    <tr>\n",
       "      <th>15</th>\n",
       "      <td>NightSkiing_ac</td>\n",
       "      <td>0.381768</td>\n",
       "      <td></td>\n",
       "      <td></td>\n",
       "    </tr>\n",
       "    <tr>\n",
       "      <th>16</th>\n",
       "      <td>trams</td>\n",
       "      <td>0.29086</td>\n",
       "      <td></td>\n",
       "      <td></td>\n",
       "    </tr>\n",
       "    <tr>\n",
       "      <th>17</th>\n",
       "      <td>double</td>\n",
       "      <td>0.246858</td>\n",
       "      <td></td>\n",
       "      <td></td>\n",
       "    </tr>\n",
       "    <tr>\n",
       "      <th>18</th>\n",
       "      <td>yearsOpen</td>\n",
       "      <td>0.242682</td>\n",
       "      <td></td>\n",
       "      <td></td>\n",
       "    </tr>\n",
       "    <tr>\n",
       "      <th>19</th>\n",
       "      <td>SkiableTerrain_ac</td>\n",
       "      <td>0.14156</td>\n",
       "      <td></td>\n",
       "      <td></td>\n",
       "    </tr>\n",
       "    <tr>\n",
       "      <th>20</th>\n",
       "      <td>TerrainParks</td>\n",
       "      <td>0.0925166</td>\n",
       "      <td></td>\n",
       "      <td></td>\n",
       "    </tr>\n",
       "    <tr>\n",
       "      <th>21</th>\n",
       "      <td>fastEight</td>\n",
       "      <td>0.0600049</td>\n",
       "      <td></td>\n",
       "      <td></td>\n",
       "    </tr>\n",
       "    <tr>\n",
       "      <th>22</th>\n",
       "      <td></td>\n",
       "      <td></td>\n",
       "      <td>0.935401</td>\n",
       "      <td>5.13035</td>\n",
       "    </tr>\n",
       "  </tbody>\n",
       "</table>\n",
       "</div>"
      ],
      "text/plain": [
       "              Feature Coefficient Explained Variance Mean Absolute Error\n",
       "0        AdultWeekday     20.0775                                       \n",
       "1            clusters     2.63849                                       \n",
       "2       vertical_drop     2.03241                                       \n",
       "3                Runs     1.39863                                       \n",
       "4              triple     1.38704                                       \n",
       "5             surface     1.24905                                       \n",
       "6                quad     1.18393                                       \n",
       "7    daysOpenLastYear     1.15667                                       \n",
       "8     averageSnowfall    0.899505                                       \n",
       "9           fastQuads    0.705187                                       \n",
       "10  projectedDaysOpen    0.585124                                       \n",
       "11     Snow Making_ac    0.584563                                       \n",
       "12       total_chairs    0.571702                                       \n",
       "13      LongestRun_mi    0.403842                                       \n",
       "14          fastSixes    0.383018                                       \n",
       "15     NightSkiing_ac    0.381768                                       \n",
       "16              trams     0.29086                                       \n",
       "17             double    0.246858                                       \n",
       "18          yearsOpen    0.242682                                       \n",
       "19  SkiableTerrain_ac     0.14156                                       \n",
       "20       TerrainParks   0.0925166                                       \n",
       "21          fastEight   0.0600049                                       \n",
       "22                                          0.935401             5.13035"
      ]
     },
     "execution_count": 16,
     "metadata": {},
     "output_type": "execute_result"
    }
   ],
   "source": [
    "print(co)\n",
    "co.columns=['Feature', 'Coefficient']\n",
    "co['Explained Variance']= \"\"\n",
    "co['Mean Absolute Error']=\"\"\n",
    "co=co.append({'Explained Variance':0.9354012974977128, 'Mean Absolute Error': 5.1303455279734145}, ignore_index=True)\n",
    "co.fillna('', inplace=True)\n",
    "\n",
    "co\n",
    "\n"
   ]
  },
  {
   "cell_type": "code",
   "execution_count": 17,
   "metadata": {},
   "outputs": [],
   "source": [
    "co.to_csv('finaltable1.csv')"
   ]
  }
 ],
 "metadata": {
  "colab": {
   "collapsed_sections": [
    "RtEspslPZyGY",
    "s0DokMkAZyGc",
    "2iuitnKcZyHS",
    "iAWQxougZyHW",
    "ThMTimlBZyHZ",
    "QwZ-LkjXZyHt",
    "srtXEA3N4-Y9",
    "ChVreJupZyIA",
    "zDgSSsq1ZyID",
    "I3GYKWfi5Llg",
    "pmMvrhbI-viE",
    "ZXDPkW3UZyIX",
    "Dnc_vHQLZyId",
    "daJxuJ-dZyIg",
    "mAQ-oHiPZyIn",
    "hnGOsp3mZyIp"
   ],
   "name": "GuidedCapstoneStep6.ipynb",
   "provenance": [],
   "toc_visible": true
  },
  "kernelspec": {
   "display_name": "Python 3",
   "language": "python",
   "name": "python3"
  },
  "language_info": {
   "codemirror_mode": {
    "name": "ipython",
    "version": 3
   },
   "file_extension": ".py",
   "mimetype": "text/x-python",
   "name": "python",
   "nbconvert_exporter": "python",
   "pygments_lexer": "ipython3",
   "version": "3.7.6"
  },
  "toc": {
   "base_numbering": "0",
   "nav_menu": {},
   "number_sections": true,
   "sideBar": true,
   "skip_h1_title": false,
   "title_cell": "Table of Contents",
   "title_sidebar": "Contents",
   "toc_cell": true,
   "toc_position": {
    "height": "calc(100% - 180px)",
    "left": "10px",
    "top": "150px",
    "width": "288px"
   },
   "toc_section_display": true,
   "toc_window_display": true
  }
 },
 "nbformat": 4,
 "nbformat_minor": 1
}
